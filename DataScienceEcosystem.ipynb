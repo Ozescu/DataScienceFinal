{
  "metadata": {
    "kernelspec": {
      "name": "python",
      "display_name": "Python (Pyodide)",
      "language": "python"
    },
    "language_info": {
      "codemirror_mode": {
        "name": "python",
        "version": 3
      },
      "file_extension": ".py",
      "mimetype": "text/x-python",
      "name": "python",
      "nbconvert_exporter": "python",
      "pygments_lexer": "ipython3",
      "version": "3.8"
    }
  },
  "nbformat_minor": 5,
  "nbformat": 4,
  "cells": [
    {
      "id": "7cb75a7d-7077-4323-9915-cb77a0c72022",
      "cell_type": "markdown",
      "source": "<h1>Data Science Tools and Ecosystem</h1>",
      "metadata": {}
    },
    {
      "id": "fd5e53cd-8909-4a31-9899-5e8091cd3d6b",
      "cell_type": "markdown",
      "source": "In this notebook, Data Science Tools and Ecosystem are summarized.",
      "metadata": {}
    },
    {
      "id": "79e6363d-e8b1-473c-b2df-528e6f81fa41",
      "cell_type": "markdown",
      "source": "Some of the popular languages that Data Scientists use are:\n<ol>\n    <li>R</li>\n    <li>Python</li>\n    <li>SQL</li>\n</ol>",
      "metadata": {}
    },
    {
      "id": "d7a3500b-70ee-4852-9696-4c87e0d12c57",
      "cell_type": "markdown",
      "source": "Some of the commonly used libraries used by Data Scientists include:\n<ol>\n    <li>Pandas</li>\n    <li>Matplotlib</li>\n    <li>ggplot</li>\n</ol>\n",
      "metadata": {}
    },
    {
      "id": "2300adcb-ac01-48d9-a7d5-667146413c7d",
      "cell_type": "markdown",
      "source": "<table>\n        <tr>\n            <th>Data Science Tools</th>\n        </tr>\n        <tr>\n            <td>Jupyter Notebook</td>\n        </tr>\n        <tr>\n            <td>RStudio</td>\n        </tr>\n        <tr>\n            <td>VS Code</td>\n        </tr>\n    </table>",
      "metadata": {}
    },
    {
      "id": "43c28a6b-a941-446b-afff-f87ff900a929",
      "cell_type": "markdown",
      "source": "<H3>Below are a few examples of evaluating arithmetic expressions in Python</H3>",
      "metadata": {}
    },
    {
      "id": "8240c512-f686-4521-a969-6113bd11b89a",
      "cell_type": "code",
      "source": "a= (3*4)+5\n# This a simple arithmetic expression to mutiply then add integers\nprint(a)",
      "metadata": {
        "trusted": true
      },
      "outputs": [
        {
          "name": "stdout",
          "output_type": "stream",
          "text": "17\n"
        }
      ],
      "execution_count": 1
    },
    {
      "id": "f0961a3d-2390-4cae-8096-1bea3776673c",
      "cell_type": "code",
      "source": "time = 200\n# This will convert 200 minutes to hours by diving by 60\nprint(time/60)",
      "metadata": {
        "trusted": true
      },
      "outputs": [
        {
          "name": "stdout",
          "output_type": "stream",
          "text": "3.3333333333333335\n"
        }
      ],
      "execution_count": 2
    },
    {
      "id": "f4e280d7-e00d-4d9f-86b6-f21b5aa59917",
      "cell_type": "markdown",
      "source": "<b>Objectives:</b>\n    <ul>\n        <li>List popular languages for Data Science.</li>\n        <li>Explain common libraries used in Data Science.</li>\n        <li>Describe open-source development environments.</li>\n        <li>Understand data visualization techniques.</li>\n        <li>Introduce basic machine learning concepts.</li>\n    </ul>",
      "metadata": {}
    },
    {
      "id": "c2eece49-5ef7-458a-94cf-051a68a027ba",
      "cell_type": "markdown",
      "source": "<h2>Author</h2>\nAchraf Ouizzane",
      "metadata": {}
    },
    {
      "id": "2dacccaa-0c18-4647-ba25-16c96a99ad7c",
      "cell_type": "code",
      "source": "",
      "metadata": {
        "trusted": true
      },
      "outputs": [],
      "execution_count": null
    }
  ]
}